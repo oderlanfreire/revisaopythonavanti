{
 "cells": [
  {
   "cell_type": "markdown",
   "metadata": {},
   "source": [
    "# Seleção e Repetição"
   ]
  },
  {
   "cell_type": "code",
   "execution_count": 8,
   "metadata": {},
   "outputs": [],
   "source": [
    "idade = int(input(\"Insira a idade para verificação: \"))"
   ]
  },
  {
   "cell_type": "code",
   "execution_count": 9,
   "metadata": {},
   "outputs": [
    {
     "name": "stdout",
     "output_type": "stream",
     "text": [
      "Maior de idade!\n"
     ]
    }
   ],
   "source": [
    "if idade >= 18:\n",
    "    print(\"Maior de idade!\")\n",
    "elif idade > 0 and idade < 18:\n",
    "    print(\"Menor de idade\")\n",
    "else: \n",
    "    print(\"Idade invalida, por favor tente novamente com uma idade válida: \")"
   ]
  },
  {
   "cell_type": "code",
   "execution_count": 15,
   "metadata": {},
   "outputs": [],
   "source": [
    "from random import randint\n",
    "numero_secreto = randint(1, 100)"
   ]
  },
  {
   "cell_type": "code",
   "execution_count": 16,
   "metadata": {},
   "outputs": [
    {
     "name": "stdout",
     "output_type": "stream",
     "text": [
      "frio\n",
      "frio\n",
      "quente\n",
      "quente\n",
      "frio\n",
      "frio\n",
      "quente\n",
      "frio\n",
      "frio\n",
      "frio\n",
      "frio\n",
      "frio\n",
      "frio\n",
      "quente\n",
      "morno\n",
      "muito quente\n",
      "muito quente\n",
      "quente\n",
      "muito quente\n",
      "muito quente\n",
      "Acertou! o numero secreto é 64\n",
      "valores jogados[37, 15, 70, 70, 90, 45, 57, 99, 28, 80, 44, 30, 39, 70, 75, 60, 59, 58, 62, 63, 64]\n"
     ]
    }
   ],
   "source": [
    "sua_jogada = int(input(\"Insira um numero de 1 a 100 para tentar acertar o numero secreto: \"))\n",
    "valores_jogados = []\n",
    "if sua_jogada == 0:\n",
    "    print(\"valor invalido, tente novamente\")\n",
    "    sua_jogada = int(input(\"Insira um numero de 1 a 100 para tentar acertar o numero secreto: \"))\n",
    "\n",
    "while sua_jogada != numero_secreto:\n",
    "    if sua_jogada > numero_secreto:\n",
    "        if (sua_jogada-numero_secreto) <= 5:\n",
    "            print(\"muito quente\")\n",
    "        elif (sua_jogada-numero_secreto) > 5 and (sua_jogada-numero_secreto) <=  10:\n",
    "            print(\"quente\")\n",
    "        elif(sua_jogada-numero_secreto) > 10 and (sua_jogada-numero_secreto) <=  15:\n",
    "            print(\"morno\")\n",
    "        else:\n",
    "            print(\"frio\")\n",
    "        valores_jogados.append(sua_jogada)\n",
    "        sua_jogada = int(input(\"Insira um numero de 1 a 100 para tentar acertar o numero secreto: \"))\n",
    "    elif numero_secreto > sua_jogada:\n",
    "        if (numero_secreto-sua_jogada) <= 5:\n",
    "            print(\"muito quente\")\n",
    "        elif (numero_secreto-sua_jogada) > 5 and (numero_secreto-sua_jogada) <=  10:\n",
    "            print(\"quente\")\n",
    "        elif(numero_secreto-sua_jogada) > 10 and (numero_secreto-sua_jogada) <=  15:\n",
    "            print(\"morno\")\n",
    "        else:\n",
    "            print(\"frio\")\n",
    "        valores_jogados.append(sua_jogada)\n",
    "        sua_jogada = int(input(\"Insira um numero de 1 a 100 para tentar acertar o numero secreto: \"))\n",
    "valores_jogados.append(sua_jogada)\n",
    "        \n",
    "print(f'Acertou! o numero secreto é {numero_secreto}')\n",
    "print(f\"valores jogados{valores_jogados}\")"
   ]
  }
 ],
 "metadata": {
  "kernelspec": {
   "display_name": "base",
   "language": "python",
   "name": "python3"
  },
  "language_info": {
   "codemirror_mode": {
    "name": "ipython",
    "version": 3
   },
   "file_extension": ".py",
   "mimetype": "text/x-python",
   "name": "python",
   "nbconvert_exporter": "python",
   "pygments_lexer": "ipython3",
   "version": "3.9.13"
  },
  "orig_nbformat": 4
 },
 "nbformat": 4,
 "nbformat_minor": 2
}
